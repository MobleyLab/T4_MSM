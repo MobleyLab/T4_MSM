{
 "cells": [
  {
   "cell_type": "code",
   "execution_count": 4,
   "id": "7a39646a",
   "metadata": {},
   "outputs": [],
   "source": [
    "import mdtraj as md"
   ]
  },
  {
   "cell_type": "markdown",
   "id": "a662b49e",
   "metadata": {},
   "source": [
    "### Description\n",
    "\n",
    "The following contains code to extract the atoms comprising the F-helix for the trajectories of various systems. We analyze the data and build MSMs using these F-helix trajectories."
   ]
  },
  {
   "cell_type": "code",
   "execution_count": 2,
   "id": "d22cd67d",
   "metadata": {},
   "outputs": [],
   "source": [
    "def extract_F_helix(top, traj, path):\n",
    "    topol = md.load(top)\n",
    "    F_helix_ind = topol.top.select('(resid 106 to 114)') # for residues 107 - 115\n",
    "    F_helix = md.load(traj, top=topol, atom_indices=F_helix_ind)\n",
    "    \n",
    "    F_helix.save(path+'F-helix-centered.xtc')\n",
    "    F_helix[0].save(path+'F-helix-centered.pdb')"
   ]
  },
  {
   "cell_type": "markdown",
   "id": "0c936b9b",
   "metadata": {},
   "source": [
    "### 4w52-benzene (benzene-bound protein with benzene ligand)"
   ]
  },
  {
   "cell_type": "code",
   "execution_count": 8,
   "id": "c2f6e688",
   "metadata": {},
   "outputs": [],
   "source": [
    "traj_path='/dfs9/dmobley-lab/osatom/msm_project/trajectories/'\n",
    "structures = '4w52_4w52'\n",
    "\n",
    "for index in range(10):\n",
    "    closed_topol = traj_path + structures + f'/{index}/npt-centered.pdb'\n",
    "    closed_traj = traj_path + structures + f'/{index}/npt-centered.nc'\n",
    "    extract_F_helix(closed_topol, closed_traj, path=traj_path + structures + f'/{index}/')"
   ]
  },
  {
   "cell_type": "markdown",
   "id": "2a17a0ab",
   "metadata": {},
   "source": [
    "### 4w57-butylbenzene (butylbenzene-bound protein with butylbenzene ligand)"
   ]
  },
  {
   "cell_type": "code",
   "execution_count": 9,
   "id": "0f82eb3a",
   "metadata": {},
   "outputs": [],
   "source": [
    "traj_path='/dfs9/dmobley-lab/osatom/msm_project/trajectories/'\n",
    "structures = '4w57_4w57'\n",
    "\n",
    "for index in range(10):\n",
    "    closed_topol = traj_path + structures + f'/{index}/npt-centered.pdb'\n",
    "    closed_traj = traj_path + structures + f'/{index}/npt-centered.nc'\n",
    "    extract_F_helix(closed_topol, closed_traj, path=traj_path + structures + f'/{index}/')"
   ]
  },
  {
   "cell_type": "markdown",
   "id": "b9256374",
   "metadata": {},
   "source": [
    "### 4w59-hexylbenzene system (hexylbenzene-bound protein with hexylbenzene ligand)"
   ]
  },
  {
   "cell_type": "code",
   "execution_count": 10,
   "id": "79a7fca1",
   "metadata": {},
   "outputs": [],
   "source": [
    "traj_path='/dfs9/dmobley-lab/osatom/msm_project/trajectories/'\n",
    "structures = '4w59_4w59'\n",
    "\n",
    "for index in range(10):\n",
    "    closed_topol = traj_path + structures + f'/{index}/npt-centered.pdb'\n",
    "    closed_traj = traj_path + structures + f'/{index}/npt-centered.nc'\n",
    "    extract_F_helix(closed_topol, closed_traj, path=traj_path + structures + f'/{index}/')"
   ]
  },
  {
   "cell_type": "markdown",
   "id": "b35ab53c",
   "metadata": {},
   "source": [
    "### Crystal Structures"
   ]
  },
  {
   "cell_type": "code",
   "execution_count": 14,
   "id": "5533dc52",
   "metadata": {},
   "outputs": [],
   "source": [
    "# 4w52 (benzene-bound)\n",
    "traj_path='/dfs9/dmobley-lab/osatom/msm_project/trajectories/'\n",
    "structures = 'crystal_structures/'\n",
    "\n",
    "closed_topol = md.load(traj_path + structures + '4w52_0.pdb')\n",
    "F_helix_ind = closed_topol.top.select('(resid 106 to 114)') # for residues 107 - 115\n",
    "F_helix = md.load(traj_path + structures + '4w52_0.pdb', atom_indices=F_helix_ind)\n",
    "\n",
    "F_helix.save(traj_path + structures + '4w52_F_helix.xtc')\n",
    "F_helix[0].save(traj_path + structures + '4w52_F_helix.pdb')"
   ]
  },
  {
   "cell_type": "code",
   "execution_count": 15,
   "id": "4008ef1c",
   "metadata": {},
   "outputs": [],
   "source": [
    "# 4w57 (butylbenzene-bound)\n",
    "traj_path='/dfs9/dmobley-lab/osatom/msm_project/trajectories/'\n",
    "structures = 'crystal_structures/'\n",
    "\n",
    "closed_topol = md.load(traj_path + structures + '4w57_0.pdb')\n",
    "F_helix_ind = closed_topol.top.select('(resid 106 to 114)') # for residues 107 - 115\n",
    "F_helix = md.load(traj_path + structures + '4w57_0.pdb', atom_indices=F_helix_ind)\n",
    "\n",
    "F_helix.save(traj_path + structures + '4w57_F_helix.xtc')\n",
    "F_helix[0].save(traj_path + structures + '4w57_F_helix.pdb')"
   ]
  },
  {
   "cell_type": "code",
   "execution_count": 16,
   "id": "81c5ef1e",
   "metadata": {},
   "outputs": [],
   "source": [
    "# 4w59 (hexylbenzene-bound)\n",
    "traj_path='/dfs9/dmobley-lab/osatom/msm_project/trajectories/'\n",
    "structures = 'crystal_structures/'\n",
    "\n",
    "closed_topol = md.load(traj_path + structures + '4w59_0.pdb')\n",
    "F_helix_ind = closed_topol.top.select('(resid 106 to 114)') # for residues 107 - 115\n",
    "F_helix = md.load(traj_path + structures + '4w59_0.pdb', atom_indices=F_helix_ind)\n",
    "\n",
    "F_helix.save(traj_path + structures + '4w59_F_helix.xtc')\n",
    "F_helix[0].save(traj_path + structures + '4w59_F_helix.pdb')"
   ]
  },
  {
   "cell_type": "markdown",
   "id": "27112ad3",
   "metadata": {},
   "source": [
    "### 4w52-butylbenzene (benzene-bound protein with butylbenzene ligand)"
   ]
  },
  {
   "cell_type": "code",
   "execution_count": 6,
   "id": "e8317cac",
   "metadata": {},
   "outputs": [],
   "source": [
    "# 4w52_4w57 (benzene-bound protein with butylbenzene ligand)\n",
    "traj_path='/dfs9/dmobley-lab/osatom/msm_project/trajectories/'\n",
    "structures = '4w52_4w57/'\n",
    "\n",
    "for index in range(10):\n",
    "    topol = traj_path + structures + f'/{index}/npt-centered.pdb'\n",
    "    traj = traj_path + structures + f'/{index}/npt-centered.nc'\n",
    "    extract_F_helix(topol, traj, path=traj_path + structures + f'/{index}/')"
   ]
  },
  {
   "cell_type": "markdown",
   "id": "fc397b3d",
   "metadata": {},
   "source": [
    "### 4w52-hexylbenzene (benzene-bound protein with hexylbenzene ligand)"
   ]
  },
  {
   "cell_type": "code",
   "execution_count": 5,
   "id": "b617bd81",
   "metadata": {},
   "outputs": [],
   "source": [
    "# 4w52_4w59 (benzene-bound protein with hexylbenzene ligand)\n",
    "traj_path='/dfs9/dmobley-lab/osatom/msm_project/trajectories/'\n",
    "structures = '4w52_4w59/'\n",
    "\n",
    "for index in range(10):\n",
    "    topol = traj_path + structures + f'/{index}/npt-centered.pdb'\n",
    "    traj = traj_path + structures + f'/{index}/npt-centered.nc'\n",
    "    extract_F_helix(topol, traj, path=traj_path + structures + f'/{index}/')"
   ]
  },
  {
   "cell_type": "markdown",
   "id": "935a1abf",
   "metadata": {},
   "source": [
    "### 4w57-benzene (butylbenzene-bound protein with benzene ligand)"
   ]
  },
  {
   "cell_type": "code",
   "execution_count": 7,
   "id": "62a5f08a",
   "metadata": {},
   "outputs": [],
   "source": [
    "# 4w57_4w52 (butylbenzene-bound protein with benzene ligand)\n",
    "traj_path='/dfs9/dmobley-lab/osatom/msm_project/trajectories/'\n",
    "structures = '4w57_4w52/'\n",
    "\n",
    "for index in range(10):\n",
    "    topol = traj_path + structures + f'/{index}/npt-centered.pdb'\n",
    "    traj = traj_path + structures + f'/{index}/npt-centered.nc'\n",
    "    extract_F_helix(topol, traj, path=traj_path + structures + f'/{index}/')"
   ]
  },
  {
   "cell_type": "markdown",
   "id": "0104baa0",
   "metadata": {},
   "source": [
    "### 4w57-hexylbenzene (butylbenzene-bound protein with hexylbenzene ligand)"
   ]
  },
  {
   "cell_type": "code",
   "execution_count": 8,
   "id": "4cbb60d8",
   "metadata": {},
   "outputs": [],
   "source": [
    "# 4w57_4w59 (butylbenzene-bound protein with hexylbenzene ligand)\n",
    "traj_path='/dfs9/dmobley-lab/osatom/msm_project/trajectories/'\n",
    "structures = '4w57_4w59/'\n",
    "\n",
    "for index in range(10):\n",
    "    topol = traj_path + structures + f'/{index}/npt-centered.pdb'\n",
    "    traj = traj_path + structures + f'/{index}/npt-centered.nc'\n",
    "    extract_F_helix(topol, traj, path=traj_path + structures + f'/{index}/')"
   ]
  },
  {
   "cell_type": "markdown",
   "id": "70cc3220",
   "metadata": {},
   "source": [
    "### 4w59-benzene (hexylbenzene-bound protein with benzene ligand)"
   ]
  },
  {
   "cell_type": "code",
   "execution_count": 9,
   "id": "379d7b87",
   "metadata": {},
   "outputs": [],
   "source": [
    "# 4w59_4w52 (hexylbenzene-bound protein with benzene ligand)\n",
    "traj_path='/dfs9/dmobley-lab/osatom/msm_project/trajectories/'\n",
    "structures = '4w59_4w52/'\n",
    "\n",
    "for index in range(10):\n",
    "    topol = traj_path + structures + f'/{index}/npt-centered.pdb'\n",
    "    traj = traj_path + structures + f'/{index}/npt-centered.nc'\n",
    "    extract_F_helix(topol, traj, path=traj_path + structures + f'/{index}/')"
   ]
  },
  {
   "cell_type": "markdown",
   "id": "95d371c0",
   "metadata": {},
   "source": [
    "### 4w59-butylbenzene (hexylbenzene-bound protein with butylbenzene ligand)"
   ]
  },
  {
   "cell_type": "code",
   "execution_count": 10,
   "id": "20f18308",
   "metadata": {},
   "outputs": [],
   "source": [
    "# 4w59_4w57 (hexylbenzene-bound protein with butylbenzene ligand)\n",
    "traj_path='/dfs9/dmobley-lab/osatom/msm_project/trajectories/'\n",
    "structures = '4w59_4w57/'\n",
    "\n",
    "for index in range(10):\n",
    "    topol = traj_path + structures + f'/{index}/npt-centered.pdb'\n",
    "    traj = traj_path + structures + f'/{index}/npt-centered.nc'\n",
    "    extract_F_helix(topol, traj, path=traj_path + structures + f'/{index}/')"
   ]
  }
 ],
 "metadata": {
  "kernelspec": {
   "display_name": "pyemma",
   "language": "python",
   "name": "pyemma"
  },
  "language_info": {
   "codemirror_mode": {
    "name": "ipython",
    "version": 3
   },
   "file_extension": ".py",
   "mimetype": "text/x-python",
   "name": "python",
   "nbconvert_exporter": "python",
   "pygments_lexer": "ipython3",
   "version": "3.11.7"
  }
 },
 "nbformat": 4,
 "nbformat_minor": 5
}
